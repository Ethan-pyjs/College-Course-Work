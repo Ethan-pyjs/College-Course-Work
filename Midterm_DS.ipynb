{
 "cells": [
  {
   "cell_type": "markdown",
   "metadata": {
    "id": "DZk-YR3LP4hN"
   },
   "source": [
    "# Midterm Project - (Team 4)\n",
    " **Team Members:**\n",
    "  - Alexis Saravia - (Team Manager)\n",
    "  - Ethan Pham\n",
    "  - Mohammad Sufyaan\n",
    "  - Aleja Thomas\n",
    "\n",
    "# Steps and Assigned Team Members\n",
    "1. Introduction\n",
    "2. Importing Libraries\n",
    "3. Loading the Dataset\n",
    "4. EDA (Exploratory Data Analysis)\n",
    "\n",
    "    A) Basic Data Exploration - **Lei T**\n",
    "\n",
    "    B) Univariate, Bivariate, and Multivariate Analysis - **Mohammad Sufyaan**\n",
    "\n",
    "    C) Visualization - **Alex Saravia**\n",
    "\n",
    "    D) EDA Summary - **Ethan Pham**\n",
    "\n",
    "5. Data Mining/Data Mining Questions:\n",
    "\n",
    "    **Mohammad Sufyaan: 1 - 4**\n",
    "    \n",
    "    **Lei T: 5 - 7**\n",
    "\n",
    "    **Ethan Pham: 8 - 10**\n",
    "\n",
    "    **Alex Saravia: 11 - 13**\n",
    "\n",
    "6. Conclusion:\n",
    "    - For the conclusion, please provide 10 insights gained from completing this project. **Each of us can do 3 insights**"
   ]
  },
  {
   "cell_type": "markdown",
   "metadata": {
    "id": "MDp8vMBZT_PX"
   },
   "source": [
    "## 1. Introduction\n",
    "- Context:\n",
    "    In this project, you will make a comparison between Adidas and Nike sneakers products.\n",
    "- Objectives:\n",
    "    Data and opinion mining from the dataset and answering the mining questions.\n",
    "- Data Description:\n",
    "  - Product Name: The product name\n",
    "  - Product ID: The product identification number\n",
    "  - Listing Price: the listed price of product\n",
    "  - Sale Price: The sale price of product\n",
    "  - Discount: Product discount\n",
    "  - Brand: The product brand\n",
    "  - Rating: Average customer rating\n",
    "  - Reviews: Total number of customer reviews"
   ]
  },
  {
   "cell_type": "markdown",
   "metadata": {
    "id": "we_QX6URULPt"
   },
   "source": [
    "## 2. Importing Libraries"
   ]
  },
  {
   "cell_type": "code",
   "execution_count": 1,
   "metadata": {
    "id": "AA-KYQ1HUVO-"
   },
   "outputs": [],
   "source": [
    "# general libraries\n",
    "import numpy as np   # for numeric values\n",
    "import pandas as pd  # for text values\n",
    "import math          # for any math operation\n",
    "import os\n",
    "\n",
    "# visualization libraries\n",
    "import matplotlib.pyplot as plt\n",
    "import seaborn as sns\n",
    "\n",
    "# suppressing any warnings\n",
    "import warnings\n",
    "warnings.filterwarnings('ignore')"
   ]
  },
  {
   "cell_type": "markdown",
   "metadata": {
    "id": "O3wXSs7tUWAv"
   },
   "source": [
    "## 3. Loading the Dataset"
   ]
  },
  {
   "cell_type": "code",
   "execution_count": 2,
   "metadata": {
    "id": "lqpevwyHUZ7F"
   },
   "outputs": [],
   "source": [
    "# loading the sneakers dataset & creating a dataframe copy for use\n",
    "df = pd.read_csv('sneakers.csv')\n",
    "sneakers = df.copy()"
   ]
  },
  {
   "cell_type": "markdown",
   "metadata": {
    "id": "KRE6t7DvUawZ"
   },
   "source": [
    "## 4. EDA (Exploratory Data Analysis)"
   ]
  },
  {
   "cell_type": "markdown",
   "metadata": {
    "id": "IqkLj0KCUyTY"
   },
   "source": [
    "### Basic Data Exploration"
   ]
  },
  {
   "cell_type": "code",
   "execution_count": 3,
   "metadata": {
    "id": "gNVLURMvU4Rp"
   },
   "outputs": [
    {
     "data": {
      "text/html": [
       "<div>\n",
       "<style scoped>\n",
       "    .dataframe tbody tr th:only-of-type {\n",
       "        vertical-align: middle;\n",
       "    }\n",
       "\n",
       "    .dataframe tbody tr th {\n",
       "        vertical-align: top;\n",
       "    }\n",
       "\n",
       "    .dataframe thead th {\n",
       "        text-align: right;\n",
       "    }\n",
       "</style>\n",
       "<table border=\"1\" class=\"dataframe\">\n",
       "  <thead>\n",
       "    <tr style=\"text-align: right;\">\n",
       "      <th></th>\n",
       "      <th>Product Name</th>\n",
       "      <th>Product ID</th>\n",
       "      <th>Listing Price</th>\n",
       "      <th>Sale Price</th>\n",
       "      <th>Discount</th>\n",
       "      <th>Brand</th>\n",
       "      <th>Rating</th>\n",
       "      <th>Reviews</th>\n",
       "    </tr>\n",
       "  </thead>\n",
       "  <tbody>\n",
       "    <tr>\n",
       "      <th>0</th>\n",
       "      <td>Women's adidas Originals NMD_Racer Primeknit S...</td>\n",
       "      <td>AH2430</td>\n",
       "      <td>14999</td>\n",
       "      <td>7499</td>\n",
       "      <td>50</td>\n",
       "      <td>Adidas Adidas ORIGINALS</td>\n",
       "      <td>4.8</td>\n",
       "      <td>41</td>\n",
       "    </tr>\n",
       "    <tr>\n",
       "      <th>1</th>\n",
       "      <td>Women's adidas Originals Sleek Shoes</td>\n",
       "      <td>G27341</td>\n",
       "      <td>7599</td>\n",
       "      <td>3799</td>\n",
       "      <td>50</td>\n",
       "      <td>Adidas ORIGINALS</td>\n",
       "      <td>3.3</td>\n",
       "      <td>24</td>\n",
       "    </tr>\n",
       "    <tr>\n",
       "      <th>2</th>\n",
       "      <td>Women's adidas Swim Puka Slippers</td>\n",
       "      <td>CM0081</td>\n",
       "      <td>999</td>\n",
       "      <td>599</td>\n",
       "      <td>40</td>\n",
       "      <td>Adidas CORE / NEO</td>\n",
       "      <td>2.6</td>\n",
       "      <td>37</td>\n",
       "    </tr>\n",
       "    <tr>\n",
       "      <th>3</th>\n",
       "      <td>Women's adidas Sport Inspired Questar Ride Shoes</td>\n",
       "      <td>B44832</td>\n",
       "      <td>6999</td>\n",
       "      <td>3499</td>\n",
       "      <td>50</td>\n",
       "      <td>Adidas CORE / NEO</td>\n",
       "      <td>4.1</td>\n",
       "      <td>35</td>\n",
       "    </tr>\n",
       "    <tr>\n",
       "      <th>4</th>\n",
       "      <td>Women's adidas Originals Taekwondo Shoes</td>\n",
       "      <td>D98205</td>\n",
       "      <td>7999</td>\n",
       "      <td>3999</td>\n",
       "      <td>50</td>\n",
       "      <td>Adidas ORIGINALS</td>\n",
       "      <td>3.5</td>\n",
       "      <td>72</td>\n",
       "    </tr>\n",
       "  </tbody>\n",
       "</table>\n",
       "</div>"
      ],
      "text/plain": [
       "                                        Product Name Product ID  \\\n",
       "0  Women's adidas Originals NMD_Racer Primeknit S...     AH2430   \n",
       "1               Women's adidas Originals Sleek Shoes     G27341   \n",
       "2                  Women's adidas Swim Puka Slippers     CM0081   \n",
       "3   Women's adidas Sport Inspired Questar Ride Shoes     B44832   \n",
       "4           Women's adidas Originals Taekwondo Shoes     D98205   \n",
       "\n",
       "   Listing Price  Sale Price  Discount                    Brand  Rating  \\\n",
       "0          14999        7499        50  Adidas Adidas ORIGINALS     4.8   \n",
       "1           7599        3799        50         Adidas ORIGINALS     3.3   \n",
       "2            999         599        40        Adidas CORE / NEO     2.6   \n",
       "3           6999        3499        50        Adidas CORE / NEO     4.1   \n",
       "4           7999        3999        50         Adidas ORIGINALS     3.5   \n",
       "\n",
       "   Reviews  \n",
       "0       41  \n",
       "1       24  \n",
       "2       37  \n",
       "3       35  \n",
       "4       72  "
      ]
     },
     "execution_count": 3,
     "metadata": {},
     "output_type": "execute_result"
    }
   ],
   "source": [
    "sneakers.head()"
   ]
  },
  {
   "cell_type": "code",
   "execution_count": 4,
   "metadata": {},
   "outputs": [
    {
     "data": {
      "text/html": [
       "<div>\n",
       "<style scoped>\n",
       "    .dataframe tbody tr th:only-of-type {\n",
       "        vertical-align: middle;\n",
       "    }\n",
       "\n",
       "    .dataframe tbody tr th {\n",
       "        vertical-align: top;\n",
       "    }\n",
       "\n",
       "    .dataframe thead th {\n",
       "        text-align: right;\n",
       "    }\n",
       "</style>\n",
       "<table border=\"1\" class=\"dataframe\">\n",
       "  <thead>\n",
       "    <tr style=\"text-align: right;\">\n",
       "      <th></th>\n",
       "      <th>Product Name</th>\n",
       "      <th>Product ID</th>\n",
       "      <th>Listing Price</th>\n",
       "      <th>Sale Price</th>\n",
       "      <th>Discount</th>\n",
       "      <th>Brand</th>\n",
       "      <th>Rating</th>\n",
       "      <th>Reviews</th>\n",
       "    </tr>\n",
       "  </thead>\n",
       "  <tbody>\n",
       "    <tr>\n",
       "      <th>3263</th>\n",
       "      <td>Air Jordan 8 Retro</td>\n",
       "      <td>CI1236-100</td>\n",
       "      <td>15995</td>\n",
       "      <td>12797</td>\n",
       "      <td>0</td>\n",
       "      <td>Nike</td>\n",
       "      <td>5.0</td>\n",
       "      <td>1</td>\n",
       "    </tr>\n",
       "    <tr>\n",
       "      <th>3264</th>\n",
       "      <td>Nike Phantom Venom Club IC</td>\n",
       "      <td>AO0578-717</td>\n",
       "      <td>4995</td>\n",
       "      <td>3497</td>\n",
       "      <td>0</td>\n",
       "      <td>Nike</td>\n",
       "      <td>0.0</td>\n",
       "      <td>0</td>\n",
       "    </tr>\n",
       "    <tr>\n",
       "      <th>3265</th>\n",
       "      <td>Nike Mercurial Superfly 7 Academy TF</td>\n",
       "      <td>AT7978-414</td>\n",
       "      <td>8495</td>\n",
       "      <td>5947</td>\n",
       "      <td>0</td>\n",
       "      <td>Nike</td>\n",
       "      <td>5.0</td>\n",
       "      <td>1</td>\n",
       "    </tr>\n",
       "    <tr>\n",
       "      <th>3266</th>\n",
       "      <td>Nike Air Max 98</td>\n",
       "      <td>AH6799-300</td>\n",
       "      <td>0</td>\n",
       "      <td>16995</td>\n",
       "      <td>0</td>\n",
       "      <td>Nike</td>\n",
       "      <td>4.0</td>\n",
       "      <td>4</td>\n",
       "    </tr>\n",
       "    <tr>\n",
       "      <th>3267</th>\n",
       "      <td>Nike P-6000 SE</td>\n",
       "      <td>CJ9585-600</td>\n",
       "      <td>8995</td>\n",
       "      <td>6297</td>\n",
       "      <td>0</td>\n",
       "      <td>Nike</td>\n",
       "      <td>0.0</td>\n",
       "      <td>0</td>\n",
       "    </tr>\n",
       "  </tbody>\n",
       "</table>\n",
       "</div>"
      ],
      "text/plain": [
       "                              Product Name  Product ID  Listing Price  \\\n",
       "3263                    Air Jordan 8 Retro  CI1236-100          15995   \n",
       "3264            Nike Phantom Venom Club IC  AO0578-717           4995   \n",
       "3265  Nike Mercurial Superfly 7 Academy TF  AT7978-414           8495   \n",
       "3266                       Nike Air Max 98  AH6799-300              0   \n",
       "3267                        Nike P-6000 SE  CJ9585-600           8995   \n",
       "\n",
       "      Sale Price  Discount Brand  Rating  Reviews  \n",
       "3263       12797         0  Nike     5.0        1  \n",
       "3264        3497         0  Nike     0.0        0  \n",
       "3265        5947         0  Nike     5.0        1  \n",
       "3266       16995         0  Nike     4.0        4  \n",
       "3267        6297         0  Nike     0.0        0  "
      ]
     },
     "execution_count": 4,
     "metadata": {},
     "output_type": "execute_result"
    }
   ],
   "source": [
    "sneakers.tail()"
   ]
  },
  {
   "cell_type": "code",
   "execution_count": 5,
   "metadata": {},
   "outputs": [
    {
     "data": {
      "text/plain": [
       "26144"
      ]
     },
     "execution_count": 5,
     "metadata": {},
     "output_type": "execute_result"
    }
   ],
   "source": [
    "sneakers.size"
   ]
  },
  {
   "cell_type": "code",
   "execution_count": 6,
   "metadata": {},
   "outputs": [
    {
     "data": {
      "text/plain": [
       "(3268, 8)"
      ]
     },
     "execution_count": 6,
     "metadata": {},
     "output_type": "execute_result"
    }
   ],
   "source": [
    "sneakers.shape"
   ]
  },
  {
   "cell_type": "code",
   "execution_count": 7,
   "metadata": {},
   "outputs": [
    {
     "data": {
      "text/plain": [
       "2"
      ]
     },
     "execution_count": 7,
     "metadata": {},
     "output_type": "execute_result"
    }
   ],
   "source": [
    "sneakers.ndim"
   ]
  },
  {
   "cell_type": "code",
   "execution_count": 8,
   "metadata": {},
   "outputs": [
    {
     "data": {
      "text/plain": [
       "Product Name      object\n",
       "Product ID        object\n",
       "Listing Price      int64\n",
       "Sale Price         int64\n",
       "Discount           int64\n",
       "Brand             object\n",
       "Rating           float64\n",
       "Reviews            int64\n",
       "dtype: object"
      ]
     },
     "execution_count": 8,
     "metadata": {},
     "output_type": "execute_result"
    }
   ],
   "source": [
    "sneakers.dtypes"
   ]
  },
  {
   "cell_type": "code",
   "execution_count": 9,
   "metadata": {},
   "outputs": [
    {
     "data": {
      "text/plain": [
       "Index(['Product Name', 'Product ID', 'Listing Price', 'Sale Price', 'Discount',\n",
       "       'Brand', 'Rating', 'Reviews'],\n",
       "      dtype='object')"
      ]
     },
     "execution_count": 9,
     "metadata": {},
     "output_type": "execute_result"
    }
   ],
   "source": [
    "sneakers.columns"
   ]
  },
  {
   "cell_type": "code",
   "execution_count": 10,
   "metadata": {},
   "outputs": [
    {
     "name": "stdout",
     "output_type": "stream",
     "text": [
      "<class 'pandas.core.frame.DataFrame'>\n",
      "RangeIndex: 3268 entries, 0 to 3267\n",
      "Data columns (total 8 columns):\n",
      " #   Column         Non-Null Count  Dtype  \n",
      "---  ------         --------------  -----  \n",
      " 0   Product Name   3268 non-null   object \n",
      " 1   Product ID     3268 non-null   object \n",
      " 2   Listing Price  3268 non-null   int64  \n",
      " 3   Sale Price     3268 non-null   int64  \n",
      " 4   Discount       3268 non-null   int64  \n",
      " 5   Brand          3268 non-null   object \n",
      " 6   Rating         3268 non-null   float64\n",
      " 7   Reviews        3268 non-null   int64  \n",
      "dtypes: float64(1), int64(4), object(3)\n",
      "memory usage: 204.4+ KB\n"
     ]
    }
   ],
   "source": [
    "sneakers.info()"
   ]
  },
  {
   "cell_type": "code",
   "execution_count": 11,
   "metadata": {},
   "outputs": [
    {
     "data": {
      "text/plain": [
       "False    3180\n",
       "True       88\n",
       "Name: count, dtype: int64"
      ]
     },
     "execution_count": 11,
     "metadata": {},
     "output_type": "execute_result"
    }
   ],
   "source": [
    "sneakers.duplicated().value_counts()"
   ]
  },
  {
   "cell_type": "code",
   "execution_count": 12,
   "metadata": {},
   "outputs": [
    {
     "data": {
      "text/html": [
       "<div>\n",
       "<style scoped>\n",
       "    .dataframe tbody tr th:only-of-type {\n",
       "        vertical-align: middle;\n",
       "    }\n",
       "\n",
       "    .dataframe tbody tr th {\n",
       "        vertical-align: top;\n",
       "    }\n",
       "\n",
       "    .dataframe thead th {\n",
       "        text-align: right;\n",
       "    }\n",
       "</style>\n",
       "<table border=\"1\" class=\"dataframe\">\n",
       "  <thead>\n",
       "    <tr style=\"text-align: right;\">\n",
       "      <th></th>\n",
       "      <th>Listing Price</th>\n",
       "      <th>Sale Price</th>\n",
       "      <th>Discount</th>\n",
       "      <th>Rating</th>\n",
       "      <th>Reviews</th>\n",
       "    </tr>\n",
       "  </thead>\n",
       "  <tbody>\n",
       "    <tr>\n",
       "      <th>count</th>\n",
       "      <td>3268.000000</td>\n",
       "      <td>3268.000000</td>\n",
       "      <td>3268.000000</td>\n",
       "      <td>3268.000000</td>\n",
       "      <td>3268.000000</td>\n",
       "    </tr>\n",
       "    <tr>\n",
       "      <th>mean</th>\n",
       "      <td>6868.020196</td>\n",
       "      <td>6134.265606</td>\n",
       "      <td>26.875765</td>\n",
       "      <td>3.242105</td>\n",
       "      <td>40.551714</td>\n",
       "    </tr>\n",
       "    <tr>\n",
       "      <th>std</th>\n",
       "      <td>4724.659386</td>\n",
       "      <td>4293.247581</td>\n",
       "      <td>22.633487</td>\n",
       "      <td>1.428856</td>\n",
       "      <td>31.543491</td>\n",
       "    </tr>\n",
       "    <tr>\n",
       "      <th>min</th>\n",
       "      <td>0.000000</td>\n",
       "      <td>449.000000</td>\n",
       "      <td>0.000000</td>\n",
       "      <td>0.000000</td>\n",
       "      <td>0.000000</td>\n",
       "    </tr>\n",
       "    <tr>\n",
       "      <th>25%</th>\n",
       "      <td>4299.000000</td>\n",
       "      <td>2999.000000</td>\n",
       "      <td>0.000000</td>\n",
       "      <td>2.600000</td>\n",
       "      <td>10.000000</td>\n",
       "    </tr>\n",
       "    <tr>\n",
       "      <th>50%</th>\n",
       "      <td>5999.000000</td>\n",
       "      <td>4799.000000</td>\n",
       "      <td>40.000000</td>\n",
       "      <td>3.500000</td>\n",
       "      <td>37.000000</td>\n",
       "    </tr>\n",
       "    <tr>\n",
       "      <th>75%</th>\n",
       "      <td>8999.000000</td>\n",
       "      <td>7995.000000</td>\n",
       "      <td>50.000000</td>\n",
       "      <td>4.400000</td>\n",
       "      <td>68.000000</td>\n",
       "    </tr>\n",
       "    <tr>\n",
       "      <th>max</th>\n",
       "      <td>29999.000000</td>\n",
       "      <td>36500.000000</td>\n",
       "      <td>60.000000</td>\n",
       "      <td>5.000000</td>\n",
       "      <td>223.000000</td>\n",
       "    </tr>\n",
       "  </tbody>\n",
       "</table>\n",
       "</div>"
      ],
      "text/plain": [
       "       Listing Price    Sale Price     Discount       Rating      Reviews\n",
       "count    3268.000000   3268.000000  3268.000000  3268.000000  3268.000000\n",
       "mean     6868.020196   6134.265606    26.875765     3.242105    40.551714\n",
       "std      4724.659386   4293.247581    22.633487     1.428856    31.543491\n",
       "min         0.000000    449.000000     0.000000     0.000000     0.000000\n",
       "25%      4299.000000   2999.000000     0.000000     2.600000    10.000000\n",
       "50%      5999.000000   4799.000000    40.000000     3.500000    37.000000\n",
       "75%      8999.000000   7995.000000    50.000000     4.400000    68.000000\n",
       "max     29999.000000  36500.000000    60.000000     5.000000   223.000000"
      ]
     },
     "execution_count": 12,
     "metadata": {},
     "output_type": "execute_result"
    }
   ],
   "source": [
    "sneakers.describe()"
   ]
  },
  {
   "cell_type": "markdown",
   "metadata": {
    "id": "0t0sDVVmU5GU"
   },
   "source": [
    "## Univariate, Bivariate, and Multivariate Analysis\n",
    "\n"
   ]
  },
  {
   "cell_type": "code",
   "execution_count": 14,
   "metadata": {
    "colab": {
     "base_uri": "https://localhost:8080/",
     "height": 1000
    },
    "id": "_GLjFVVEvH2O",
    "outputId": "9c6a7e2e-1430-41ad-f9de-446300e81476"
   },
   "outputs": [
    {
     "name": "stdout",
     "output_type": "stream",
     "text": [
      "       Listing Price    Sale Price     Discount       Rating      Reviews\n",
      "count    3268.000000   3268.000000  3268.000000  3268.000000  3268.000000\n",
      "mean     6868.020196   6134.265606    26.875765     3.242105    40.551714\n",
      "std      4724.659386   4293.247581    22.633487     1.428856    31.543491\n",
      "min         0.000000    449.000000     0.000000     0.000000     0.000000\n",
      "25%      4299.000000   2999.000000     0.000000     2.600000    10.000000\n",
      "50%      5999.000000   4799.000000    40.000000     3.500000    37.000000\n",
      "75%      8999.000000   7995.000000    50.000000     4.400000    68.000000\n",
      "max     29999.000000  36500.000000    60.000000     5.000000   223.000000\n"
     ]
    },
    {
     "data": {
      "image/png": "[encoded data removed]",
      "text/plain": [
       "<Figure size 640x480 with 1 Axes>"
      ]
     },
     "metadata": {},
     "output_type": "display_data"
    },
    {
     "data": {
      "image/png": "[encoded data removed]",
      "text/plain": [
       "<Figure size 640x480 with 1 Axes>"
      ]
     },
     "metadata": {},
     "output_type": "display_data"
    },
    {
     "ename": "KeyError",
     "evalue": "\"['Product Name', 'Product ID', 'Brand'] not found in axis\"",
     "output_type": "error",
     "traceback": [
      "\u001b[1;31m---------------------------------------------------------------------------\u001b[0m",
      "\u001b[1;31mKeyError\u001b[0m                                  Traceback (most recent call last)",
      "Cell \u001b[1;32mIn[14], line 12\u001b[0m\n\u001b[0;32m     10\u001b[0m \u001b[38;5;66;03m# Multivariate Analysis\u001b[39;00m\n\u001b[0;32m     11\u001b[0m multisnkr \u001b[38;5;241m=\u001b[39m sneakers\u001b[38;5;241m.\u001b[39mcopy()\n\u001b[1;32m---> 12\u001b[0m multisnkr\u001b[38;5;241m.\u001b[39mdrop([\u001b[38;5;124m'\u001b[39m\u001b[38;5;124mProduct Name\u001b[39m\u001b[38;5;124m'\u001b[39m, \u001b[38;5;124m'\u001b[39m\u001b[38;5;124mProduct ID\u001b[39m\u001b[38;5;124m'\u001b[39m, \u001b[38;5;124m'\u001b[39m\u001b[38;5;124mBrand\u001b[39m\u001b[38;5;124m'\u001b[39m])\n\u001b[0;32m     13\u001b[0m sns\u001b[38;5;241m.\u001b[39mheatmap(multisnkr\u001b[38;5;241m.\u001b[39mcorr(), annot\u001b[38;5;241m=\u001b[39m\u001b[38;5;28;01mTrue\u001b[39;00m, cmap\u001b[38;5;241m=\u001b[39m\u001b[38;5;124m'\u001b[39m\u001b[38;5;124mcoolwarm\u001b[39m\u001b[38;5;124m'\u001b[39m, fmt\u001b[38;5;241m=\u001b[39m\u001b[38;5;124m\"\u001b[39m\u001b[38;5;124m.2f\u001b[39m\u001b[38;5;124m\"\u001b[39m)\n\u001b[0;32m     14\u001b[0m plt\u001b[38;5;241m.\u001b[39mshow()\n",
      "File \u001b[1;32mC:\\anaconda3\\Lib\\site-packages\\pandas\\core\\frame.py:5258\u001b[0m, in \u001b[0;36mDataFrame.drop\u001b[1;34m(self, labels, axis, index, columns, level, inplace, errors)\u001b[0m\n\u001b[0;32m   5110\u001b[0m \u001b[38;5;28;01mdef\u001b[39;00m \u001b[38;5;21mdrop\u001b[39m(\n\u001b[0;32m   5111\u001b[0m     \u001b[38;5;28mself\u001b[39m,\n\u001b[0;32m   5112\u001b[0m     labels: IndexLabel \u001b[38;5;241m=\u001b[39m \u001b[38;5;28;01mNone\u001b[39;00m,\n\u001b[1;32m   (...)\u001b[0m\n\u001b[0;32m   5119\u001b[0m     errors: IgnoreRaise \u001b[38;5;241m=\u001b[39m \u001b[38;5;124m\"\u001b[39m\u001b[38;5;124mraise\u001b[39m\u001b[38;5;124m\"\u001b[39m,\n\u001b[0;32m   5120\u001b[0m ) \u001b[38;5;241m-\u001b[39m\u001b[38;5;241m>\u001b[39m DataFrame \u001b[38;5;241m|\u001b[39m \u001b[38;5;28;01mNone\u001b[39;00m:\n\u001b[0;32m   5121\u001b[0m \u001b[38;5;250m    \u001b[39m\u001b[38;5;124;03m\"\"\"\u001b[39;00m\n\u001b[0;32m   5122\u001b[0m \u001b[38;5;124;03m    Drop specified labels from rows or columns.\u001b[39;00m\n\u001b[0;32m   5123\u001b[0m \n\u001b[1;32m   (...)\u001b[0m\n\u001b[0;32m   5256\u001b[0m \u001b[38;5;124;03m            weight  1.0     0.8\u001b[39;00m\n\u001b[0;32m   5257\u001b[0m \u001b[38;5;124;03m    \"\"\"\u001b[39;00m\n\u001b[1;32m-> 5258\u001b[0m     \u001b[38;5;28;01mreturn\u001b[39;00m \u001b[38;5;28msuper\u001b[39m()\u001b[38;5;241m.\u001b[39mdrop(\n\u001b[0;32m   5259\u001b[0m         labels\u001b[38;5;241m=\u001b[39mlabels,\n\u001b[0;32m   5260\u001b[0m         axis\u001b[38;5;241m=\u001b[39maxis,\n\u001b[0;32m   5261\u001b[0m         index\u001b[38;5;241m=\u001b[39mindex,\n\u001b[0;32m   5262\u001b[0m         columns\u001b[38;5;241m=\u001b[39mcolumns,\n\u001b[0;32m   5263\u001b[0m         level\u001b[38;5;241m=\u001b[39mlevel,\n\u001b[0;32m   5264\u001b[0m         inplace\u001b[38;5;241m=\u001b[39minplace,\n\u001b[0;32m   5265\u001b[0m         errors\u001b[38;5;241m=\u001b[39merrors,\n\u001b[0;32m   5266\u001b[0m     )\n",
      "File \u001b[1;32mC:\\anaconda3\\Lib\\site-packages\\pandas\\core\\generic.py:4549\u001b[0m, in \u001b[0;36mNDFrame.drop\u001b[1;34m(self, labels, axis, index, columns, level, inplace, errors)\u001b[0m\n\u001b[0;32m   4547\u001b[0m \u001b[38;5;28;01mfor\u001b[39;00m axis, labels \u001b[38;5;129;01min\u001b[39;00m axes\u001b[38;5;241m.\u001b[39mitems():\n\u001b[0;32m   4548\u001b[0m     \u001b[38;5;28;01mif\u001b[39;00m labels \u001b[38;5;129;01mis\u001b[39;00m \u001b[38;5;129;01mnot\u001b[39;00m \u001b[38;5;28;01mNone\u001b[39;00m:\n\u001b[1;32m-> 4549\u001b[0m         obj \u001b[38;5;241m=\u001b[39m obj\u001b[38;5;241m.\u001b[39m_drop_axis(labels, axis, level\u001b[38;5;241m=\u001b[39mlevel, errors\u001b[38;5;241m=\u001b[39merrors)\n\u001b[0;32m   4551\u001b[0m \u001b[38;5;28;01mif\u001b[39;00m inplace:\n\u001b[0;32m   4552\u001b[0m     \u001b[38;5;28mself\u001b[39m\u001b[38;5;241m.\u001b[39m_update_inplace(obj)\n",
      "File \u001b[1;32mC:\\anaconda3\\Lib\\site-packages\\pandas\\core\\generic.py:4591\u001b[0m, in \u001b[0;36mNDFrame._drop_axis\u001b[1;34m(self, labels, axis, level, errors, only_slice)\u001b[0m\n\u001b[0;32m   4589\u001b[0m         new_axis \u001b[38;5;241m=\u001b[39m axis\u001b[38;5;241m.\u001b[39mdrop(labels, level\u001b[38;5;241m=\u001b[39mlevel, errors\u001b[38;5;241m=\u001b[39merrors)\n\u001b[0;32m   4590\u001b[0m     \u001b[38;5;28;01melse\u001b[39;00m:\n\u001b[1;32m-> 4591\u001b[0m         new_axis \u001b[38;5;241m=\u001b[39m axis\u001b[38;5;241m.\u001b[39mdrop(labels, errors\u001b[38;5;241m=\u001b[39merrors)\n\u001b[0;32m   4592\u001b[0m     indexer \u001b[38;5;241m=\u001b[39m axis\u001b[38;5;241m.\u001b[39mget_indexer(new_axis)\n\u001b[0;32m   4594\u001b[0m \u001b[38;5;66;03m# Case for non-unique axis\u001b[39;00m\n\u001b[0;32m   4595\u001b[0m \u001b[38;5;28;01melse\u001b[39;00m:\n",
      "File \u001b[1;32mC:\\anaconda3\\Lib\\site-packages\\pandas\\core\\indexes\\base.py:6699\u001b[0m, in \u001b[0;36mIndex.drop\u001b[1;34m(self, labels, errors)\u001b[0m\n\u001b[0;32m   6697\u001b[0m \u001b[38;5;28;01mif\u001b[39;00m mask\u001b[38;5;241m.\u001b[39many():\n\u001b[0;32m   6698\u001b[0m     \u001b[38;5;28;01mif\u001b[39;00m errors \u001b[38;5;241m!=\u001b[39m \u001b[38;5;124m\"\u001b[39m\u001b[38;5;124mignore\u001b[39m\u001b[38;5;124m\"\u001b[39m:\n\u001b[1;32m-> 6699\u001b[0m         \u001b[38;5;28;01mraise\u001b[39;00m \u001b[38;5;167;01mKeyError\u001b[39;00m(\u001b[38;5;124mf\u001b[39m\u001b[38;5;124m\"\u001b[39m\u001b[38;5;132;01m{\u001b[39;00m\u001b[38;5;28mlist\u001b[39m(labels[mask])\u001b[38;5;132;01m}\u001b[39;00m\u001b[38;5;124m not found in axis\u001b[39m\u001b[38;5;124m\"\u001b[39m)\n\u001b[0;32m   6700\u001b[0m     indexer \u001b[38;5;241m=\u001b[39m indexer[\u001b[38;5;241m~\u001b[39mmask]\n\u001b[0;32m   6701\u001b[0m \u001b[38;5;28;01mreturn\u001b[39;00m \u001b[38;5;28mself\u001b[39m\u001b[38;5;241m.\u001b[39mdelete(indexer)\n",
      "\u001b[1;31mKeyError\u001b[0m: \"['Product Name', 'Product ID', 'Brand'] not found in axis\""
     ]
    }
   ],
   "source": [
    "# Univariate Analysis\n",
    "print(sneakers.describe())\n",
    "sns.histplot(data=sneakers, x='Listing Price', hue='Brand', bins=20, kde=True)\n",
    "plt.show()\n",
    "\n",
    "# Bivariate Analysis\n",
    "sns.scatterplot(data=sneakers, x='Listing Price', y='Sale Price', hue='Brand')\n",
    "plt.show()\n",
    "\n",
    "# Multivariate Analysis\n",
    "multisnkr = sneakers.copy()\n",
    "multisnkr.drop(['Product Name', 'Product ID', 'Brand'])\n",
    "sns.heatmap(multisnkr.corr(), annot=True, cmap='coolwarm', fmt=\".2f\")\n",
    "plt.show()\n",
    "\n"
   ]
  },
  {
   "cell_type": "markdown",
   "metadata": {
    "id": "sa3T-iiGU-sg"
   },
   "source": [
    "### Visualization"
   ]
  },
  {
   "cell_type": "code",
   "execution_count": null,
   "metadata": {
    "id": "-lTC8oE8Y1pE"
   },
   "outputs": [],
   "source": []
  },
  {
   "cell_type": "markdown",
   "metadata": {
    "id": "52GGlY-5VEvw"
   },
   "source": [
    "### EDA Summary"
   ]
  },
  {
   "cell_type": "markdown",
   "metadata": {
    "id": "9bW9Z-YGY2rQ"
   },
   "source": []
  },
  {
   "cell_type": "markdown",
   "metadata": {
    "id": "_FoT_KMYUjAO"
   },
   "source": [
    "## Data Mining/Data Mining Questions"
   ]
  },
  {
   "cell_type": "markdown",
   "metadata": {
    "id": "ckqmS1yHVUQs"
   },
   "source": [
    "### 1. What is the shape of the dataset?\n",
    "\n"
   ]
  },
  {
   "cell_type": "code",
   "execution_count": null,
   "metadata": {
    "id": "wZSCYMPxoasE"
   },
   "outputs": [],
   "source": []
  },
  {
   "cell_type": "code",
   "execution_count": null,
   "metadata": {
    "id": "lRlET_bdV7Mq"
   },
   "outputs": [],
   "source": []
  },
  {
   "cell_type": "markdown",
   "metadata": {
    "id": "km_rVO1kV-MP"
   },
   "source": [
    "Answer:"
   ]
  },
  {
   "cell_type": "markdown",
   "metadata": {
    "id": "l28ECTSdWLYB"
   },
   "source": [
    "### 2. Are there any missing values in this\n",
    "\n",
    "1.   List item\n",
    "2.   List item\n",
    "\n",
    "dataset?"
   ]
  },
  {
   "cell_type": "code",
   "execution_count": null,
   "metadata": {
    "id": "mGDdckd2WZOK"
   },
   "outputs": [],
   "source": []
  },
  {
   "cell_type": "markdown",
   "metadata": {
    "id": "caVETOuaWZn0"
   },
   "source": [
    "Answer:"
   ]
  },
  {
   "cell_type": "markdown",
   "metadata": {
    "id": "bm4IbrpnWok7"
   },
   "source": [
    "### 3. List all 8 Columns' Dtypes"
   ]
  },
  {
   "cell_type": "code",
   "execution_count": null,
   "metadata": {
    "id": "GYTX15UUWwC1"
   },
   "outputs": [],
   "source": []
  },
  {
   "cell_type": "markdown",
   "metadata": {
    "id": "clpMsuHFWwiE"
   },
   "source": [
    "Answer:"
   ]
  },
  {
   "cell_type": "markdown",
   "metadata": {
    "id": "8EqR1gOYW0Tg"
   },
   "source": [
    "### 4. Are there any duplicated rows (Observations) in this dataset?"
   ]
  },
  {
   "cell_type": "code",
   "execution_count": null,
   "metadata": {
    "id": "NGuL7iLZW_Ud"
   },
   "outputs": [],
   "source": []
  },
  {
   "cell_type": "markdown",
   "metadata": {
    "id": "CjuWITtHW_yB"
   },
   "source": [
    "Answer:"
   ]
  },
  {
   "cell_type": "markdown",
   "metadata": {
    "id": "hwLXkKsQXNKy"
   },
   "source": [
    "### 5. Refer to the statistical summary of the dataset and answer the following:\n",
    "  - The Average Listing Price\n",
    "  - The Average Sale Price\n",
    "  - The Average Discount\n",
    "  - The Average Rating\n",
    "  - The Average Number of Reviews"
   ]
  },
  {
   "cell_type": "code",
   "execution_count": null,
   "metadata": {
    "id": "8kdRx1EqXqDn"
   },
   "outputs": [],
   "source": []
  },
  {
   "cell_type": "markdown",
   "metadata": {
    "id": "0j5yTfcBXqvZ"
   },
   "source": [
    "Answer:"
   ]
  },
  {
   "cell_type": "markdown",
   "metadata": {
    "id": "HQXVZwyVXubg"
   },
   "source": [
    "### 6. Which \"Brand\" has the highest number of products in this dataset?"
   ]
  },
  {
   "cell_type": "code",
   "execution_count": null,
   "metadata": {
    "id": "prlF9FYvX08p"
   },
   "outputs": [],
   "source": []
  },
  {
   "cell_type": "markdown",
   "metadata": {
    "id": "GT-f1AYjX1Wq"
   },
   "source": [
    "Answer:"
   ]
  },
  {
   "cell_type": "markdown",
   "metadata": {
    "id": "zTB2TJayX8-_"
   },
   "source": [
    "### 7. As you can see, the \"Listing Price\" for some products is zero (0). How many products with zero listing price are there in this dataset?"
   ]
  },
  {
   "cell_type": "code",
   "execution_count": null,
   "metadata": {
    "id": "uvIj7J_sYDaw"
   },
   "outputs": [],
   "source": []
  },
  {
   "cell_type": "markdown",
   "metadata": {
    "id": "pleLbpg8YIxG"
   },
   "source": [
    "Answer:"
   ]
  },
  {
   "cell_type": "markdown",
   "metadata": {
    "id": "uO_ZvSKcYNgf"
   },
   "source": [
    "### 8. Perform the \"Univariate EDA\", and examine any type of skewness (outliers) for all the variables."
   ]
  },
  {
   "cell_type": "code",
   "execution_count": null,
   "metadata": {
    "colab": {
     "base_uri": "https://localhost:8080/"
    },
    "id": "snJsZYNNYSYt",
    "outputId": "1fe38bb6-2456-497d-c60f-acbd7dd8baad"
   },
   "outputs": [
    {
     "name": "stdout",
     "output_type": "stream",
     "text": [
      "<class 'pandas.core.frame.DataFrame'>\n",
      "RangeIndex: 3268 entries, 0 to 3267\n",
      "Data columns (total 8 columns):\n",
      " #   Column         Non-Null Count  Dtype  \n",
      "---  ------         --------------  -----  \n",
      " 0   Product Name   3268 non-null   object \n",
      " 1   Product ID     3268 non-null   object \n",
      " 2   Listing Price  3268 non-null   int64  \n",
      " 3   Sale Price     3268 non-null   int64  \n",
      " 4   Discount       3268 non-null   int64  \n",
      " 5   Brand          3268 non-null   object \n",
      " 6   Rating         3268 non-null   float64\n",
      " 7   Reviews        3268 non-null   int64  \n",
      "dtypes: float64(1), int64(4), object(3)\n",
      "memory usage: 204.4+ KB\n"
     ]
    }
   ],
   "source": [
    "# Let's check all the variables\n",
    "sneakers.info()"
   ]
  },
  {
   "cell_type": "code",
   "execution_count": null,
   "metadata": {
    "id": "IUlSWlQJYw6S"
   },
   "outputs": [],
   "source": [
    "# Let's create dataframes for each variable\n",
    "snkr = sneakers['Listing Price']\n",
    "snkr1 = sneakers['Sale Price']\n",
    "snkr2 = sneakers['Discount']\n",
    "snkr3 = sneakers['Rating']\n",
    "snkr4 = sneakers['Reviews']\n"
   ]
  },
  {
   "cell_type": "code",
   "execution_count": null,
   "metadata": {
    "colab": {
     "base_uri": "https://localhost:8080/",
     "height": 430
    },
    "id": "M6ZHRYoicm4e",
    "outputId": "b94bd228-279c-46cc-b92f-3b0614a830b5"
   },
   "outputs": [
    {
     "data": {
      "image/png": "[encoded data removed]",
      "text/plain": [
       "<Figure size 640x480 with 1 Axes>"
      ]
     },
     "metadata": {},
     "output_type": "display_data"
    }
   ],
   "source": [
    "plt.hist(snkr);"
   ]
  },
  {
   "cell_type": "code",
   "execution_count": null,
   "metadata": {
    "colab": {
     "base_uri": "https://localhost:8080/",
     "height": 430
    },
    "id": "ZDxatfTwdK5u",
    "outputId": "8fae2ffe-947b-4d3b-bbfa-dfa10f4f805b"
   },
   "outputs": [
    {
     "data": {
      "image/png": "[encoded data removed]",
      "text/plain": [
       "<Figure size 640x480 with 1 Axes>"
      ]
     },
     "metadata": {},
     "output_type": "display_data"
    }
   ],
   "source": [
    "plt.hist(snkr1);"
   ]
  },
  {
   "cell_type": "code",
   "execution_count": null,
   "metadata": {
    "colab": {
     "base_uri": "https://localhost:8080/",
     "height": 430
    },
    "id": "t-LP0gZndLSj",
    "outputId": "1d86670d-2ebe-4b5a-bde0-608a3c9c0baf"
   },
   "outputs": [
    {
     "data": {
      "image/png": "[encoded data removed]",
      "text/plain": [
       "<Figure size 640x480 with 1 Axes>"
      ]
     },
     "metadata": {},
     "output_type": "display_data"
    }
   ],
   "source": [
    "plt.hist(snkr2);"
   ]
  },
  {
   "cell_type": "code",
   "execution_count": null,
   "metadata": {
    "colab": {
     "base_uri": "https://localhost:8080/",
     "height": 430
    },
    "id": "Fodt23RzdLmH",
    "outputId": "9dbbf961-6c38-42f8-b4cc-877c8266d338"
   },
   "outputs": [
    {
     "data": {
      "image/png": "[encoded data removed]",
      "text/plain": [
       "<Figure size 640x480 with 1 Axes>"
      ]
     },
     "metadata": {},
     "output_type": "display_data"
    }
   ],
   "source": [
    "plt.hist(snkr3);"
   ]
  },
  {
   "cell_type": "code",
   "execution_count": null,
   "metadata": {
    "colab": {
     "base_uri": "https://localhost:8080/",
     "height": 430
    },
    "id": "L_80pAdfdL0v",
    "outputId": "68db73b7-5008-4568-eefb-64ff02e5d05d"
   },
   "outputs": [
    {
     "data": {
      "image/png": "[encoded data removed]",
      "text/plain": [
       "<Figure size 640x480 with 1 Axes>"
      ]
     },
     "metadata": {},
     "output_type": "display_data"
    }
   ],
   "source": [
    "plt.hist(snkr4);"
   ]
  },
  {
   "cell_type": "markdown",
   "metadata": {
    "id": "jt3GohfoYTAY"
   },
   "source": [
    "1. Listing Price\n",
    "  - Positive/Right Skew\n",
    "2. Sale Price\n",
    "  - Positive/Right Skew\n",
    "3. Discount\n",
    "  - Positive/Right Skew\n",
    "4. Rating\n",
    "  - Negative/Left Skew\n",
    "5. Reviews\n",
    "  - Positive/Right Skew"
   ]
  },
  {
   "cell_type": "markdown",
   "metadata": {
    "id": "3riTZM4fYVtC"
   },
   "source": [
    "### 9. The percentage for the following:\n",
    "  - Products with listing prices less than 15000\n",
    "  - Products with sale price less than 15000\n",
    "  - Products with at least 50% discount\n",
    "  - Products with rating less than 3.5\n",
    "  - Products with review numbers less than 100\n",
    "  - The 3 highest percentages of the discount graph"
   ]
  },
  {
   "cell_type": "code",
   "execution_count": null,
   "metadata": {
    "colab": {
     "base_uri": "https://localhost:8080/"
    },
    "id": "t8vu8JhSDhYU",
    "outputId": "41140ae4-55fb-455f-8212-a8e22fa812f8"
   },
   "outputs": [
    {
     "data": {
      "text/plain": [
       "3073"
      ]
     },
     "execution_count": 11,
     "metadata": {},
     "output_type": "execute_result"
    }
   ],
   "source": [
    "# Question 1: Products with listing prices less than 15000\n",
    "# New dataframe for listing prices less than 15000\n",
    "listing_prices = snkr[snkr<15000]\n",
    "len(listing_prices)"
   ]
  },
  {
   "cell_type": "code",
   "execution_count": null,
   "metadata": {
    "colab": {
     "base_uri": "https://localhost:8080/"
    },
    "id": "fQqaDJ7QHQQP",
    "outputId": "3ba9362f-57af-48a6-d515-90db61723662"
   },
   "outputs": [
    {
     "data": {
      "text/plain": [
       "94.03304773561811"
      ]
     },
     "execution_count": 12,
     "metadata": {},
     "output_type": "execute_result"
    }
   ],
   "source": [
    "# Percentage\n",
    "listing_perc = (len(listing_prices))/(len(snkr))* 100\n",
    "listing_perc"
   ]
  },
  {
   "cell_type": "markdown",
   "metadata": {
    "id": "uKqSGbjKH2H1"
   },
   "source": [
    "  - Products with listing prices less than 15000\n",
    "    - 94%"
   ]
  },
  {
   "cell_type": "code",
   "execution_count": null,
   "metadata": {
    "colab": {
     "base_uri": "https://localhost:8080/"
    },
    "id": "EJGjkGRFIlI3",
    "outputId": "bdc15ffd-f1e9-4fd1-a459-c9b7124e151f"
   },
   "outputs": [
    {
     "data": {
      "text/plain": [
       "3126"
      ]
     },
     "execution_count": 13,
     "metadata": {},
     "output_type": "execute_result"
    }
   ],
   "source": [
    "# Question 2: Products with sale price less than 15000\n",
    "# New dataframe for sale prices less than 15000\n",
    "sale_price = snkr1[snkr1<15000]\n",
    "len(sale_price)"
   ]
  },
  {
   "cell_type": "code",
   "execution_count": null,
   "metadata": {
    "colab": {
     "base_uri": "https://localhost:8080/"
    },
    "id": "7uAbE2uoIuAc",
    "outputId": "e43721af-284f-48bb-8a0c-cd6d653b6511"
   },
   "outputs": [
    {
     "data": {
      "text/plain": [
       "95.65483476132191"
      ]
     },
     "execution_count": 14,
     "metadata": {},
     "output_type": "execute_result"
    }
   ],
   "source": [
    "# Percentage\n",
    "sale_perc = (len(sale_price))/(len(snkr1))* 100\n",
    "sale_perc"
   ]
  },
  {
   "cell_type": "markdown",
   "metadata": {
    "id": "7tXDjnLQI7E7"
   },
   "source": [
    " - Products with sale price less than 15000\n",
    "  - 95.65%"
   ]
  },
  {
   "cell_type": "code",
   "execution_count": null,
   "metadata": {
    "colab": {
     "base_uri": "https://localhost:8080/"
    },
    "id": "VPgL96TLJaUs",
    "outputId": "cb883a81-56f4-49a9-c023-7a38df550003"
   },
   "outputs": [
    {
     "data": {
      "text/plain": [
       "0       50\n",
       "1       50\n",
       "2       40\n",
       "3       50\n",
       "4       50\n",
       "        ..\n",
       "3263     0\n",
       "3264     0\n",
       "3265     0\n",
       "3266     0\n",
       "3267     0\n",
       "Name: Discount, Length: 3268, dtype: int64"
      ]
     },
     "execution_count": 15,
     "metadata": {},
     "output_type": "execute_result"
    }
   ],
   "source": [
    "# Question 3: Products with at least 50% discount\n",
    "# Let's create a dataframe\n",
    "discount = sneakers['Discount']\n",
    "discount"
   ]
  },
  {
   "cell_type": "code",
   "execution_count": null,
   "metadata": {
    "colab": {
     "base_uri": "https://localhost:8080/"
    },
    "id": "FqpcWwM1JxCB",
    "outputId": "307e1d8f-4f33-4ff3-a273-7c06db068529"
   },
   "outputs": [
    {
     "data": {
      "text/plain": [
       "1055"
      ]
     },
     "execution_count": 16,
     "metadata": {},
     "output_type": "execute_result"
    }
   ],
   "source": [
    "# Question 3: Products with at least 50% discount\n",
    "# New dataframe for discounts with at least a 50% discount\n",
    "discount = snkr2[snkr2>=50]\n",
    "len(discount)"
   ]
  },
  {
   "cell_type": "code",
   "execution_count": null,
   "metadata": {
    "colab": {
     "base_uri": "https://localhost:8080/"
    },
    "id": "qvanjobIKF2B",
    "outputId": "36239d46-6aee-4cfa-ea8d-a940da13da45"
   },
   "outputs": [
    {
     "data": {
      "text/plain": [
       "32.28274173806609"
      ]
     },
     "execution_count": 17,
     "metadata": {},
     "output_type": "execute_result"
    }
   ],
   "source": [
    "# Percentage\n",
    "discount_perc = (len(discount))/(len(snkr2))* 100\n",
    "discount_perc"
   ]
  },
  {
   "cell_type": "markdown",
   "metadata": {
    "id": "5PFyl7UPKocm"
   },
   "source": [
    "- Products with at least 50% discount\n",
    "  - 32.28%"
   ]
  },
  {
   "cell_type": "code",
   "execution_count": null,
   "metadata": {
    "colab": {
     "base_uri": "https://localhost:8080/"
    },
    "id": "2nlAUPvJLcPq",
    "outputId": "e0eccb59-c84f-48e8-fa9e-a2a056ad883a"
   },
   "outputs": [
    {
     "data": {
      "text/plain": [
       "1544"
      ]
     },
     "execution_count": 18,
     "metadata": {},
     "output_type": "execute_result"
    }
   ],
   "source": [
    "# Question 4: Products with rating less than 3.5\n",
    "# New dataframe for ratings less than 3.5\n",
    "rating = snkr3[snkr3<3.5]\n",
    "len(rating)"
   ]
  },
  {
   "cell_type": "code",
   "execution_count": null,
   "metadata": {
    "colab": {
     "base_uri": "https://localhost:8080/"
    },
    "id": "tpB2s-KfL0yh",
    "outputId": "f0e68b03-f41b-49c2-a9ea-ae144c409bf6"
   },
   "outputs": [
    {
     "data": {
      "text/plain": [
       "47.24602203182375"
      ]
     },
     "execution_count": 19,
     "metadata": {},
     "output_type": "execute_result"
    }
   ],
   "source": [
    "# Percentage\n",
    "rating_perc = (len(rating))/(len(snkr3))* 100\n",
    "rating_perc"
   ]
  },
  {
   "cell_type": "markdown",
   "metadata": {
    "id": "cnq10hQVL9bT"
   },
   "source": [
    "- Products with rating less than 3.5\n",
    "  - 47.25%"
   ]
  },
  {
   "cell_type": "code",
   "execution_count": null,
   "metadata": {
    "colab": {
     "base_uri": "https://localhost:8080/"
    },
    "id": "nY47oWcLMeDX",
    "outputId": "ee11e916-d1a7-426a-fa35-af4cc0ec8682"
   },
   "outputs": [
    {
     "data": {
      "text/plain": [
       "3266"
      ]
     },
     "execution_count": 20,
     "metadata": {},
     "output_type": "execute_result"
    }
   ],
   "source": [
    "# Question 5: Products with review numbers less than 100\n",
    "# New dataframe for review numbers less than 100\n",
    "review = snkr4[snkr4<100]\n",
    "len(review)"
   ]
  },
  {
   "cell_type": "code",
   "execution_count": null,
   "metadata": {
    "colab": {
     "base_uri": "https://localhost:8080/"
    },
    "id": "o-U5fTu4Mt11",
    "outputId": "5766af20-bfac-4dd7-8be7-11dbeaa215fd"
   },
   "outputs": [
    {
     "data": {
      "text/plain": [
       "99.93880048959608"
      ]
     },
     "execution_count": 21,
     "metadata": {},
     "output_type": "execute_result"
    }
   ],
   "source": [
    "# Percentage\n",
    "review_perc = (len(review))/(len(snkr4))* 100\n",
    "review_perc"
   ]
  },
  {
   "cell_type": "markdown",
   "metadata": {
    "id": "ZU4_fZswM8Ig"
   },
   "source": [
    "- Products with review numbers less than 100\n",
    "  - 99.94%"
   ]
  },
  {
   "cell_type": "code",
   "execution_count": null,
   "metadata": {
    "colab": {
     "base_uri": "https://localhost:8080/"
    },
    "id": "gFAfKULCPYKx",
    "outputId": "bb4be0ec-f326-40e2-b1b8-b99868aeca02"
   },
   "outputs": [
    {
     "data": {
      "text/plain": [
       "Discount\n",
       "0     1302\n",
       "50     994\n",
       "40     763\n",
       "30      99\n",
       "60      61\n",
       "20      49\n",
       "Name: count, dtype: int64"
      ]
     },
     "execution_count": 22,
     "metadata": {},
     "output_type": "execute_result"
    }
   ],
   "source": [
    "# Question 6: The 3 highest percentages of the discount graph\n",
    "snkr2.value_counts()"
   ]
  },
  {
   "cell_type": "markdown",
   "metadata": {
    "id": "SRDJUIJ1OSLw"
   },
   "source": [
    "- The 3 highest percentages of the discount graph *(is this for highest count or actual discount percentage value?)\n",
    "  1. 60% discount\n",
    "  2. 50% discount\n",
    "  3. 40% discount"
   ]
  },
  {
   "cell_type": "markdown",
   "metadata": {
    "id": "Bi4MjuMNYli-"
   },
   "source": [
    "### 10. Perform Bivariate EDA, examine the following:\n",
    "- The two highly positively correlated variables\n",
    "- The two highly negatively correlated variables"
   ]
  },
  {
   "cell_type": "code",
   "execution_count": null,
   "metadata": {
    "colab": {
     "base_uri": "https://localhost:8080/"
    },
    "id": "S7M7N7inZEK2",
    "outputId": "2fafa6df-34c9-4ac0-c4e3-9b9ea5b3282e"
   },
   "outputs": [
    {
     "name": "stdout",
     "output_type": "stream",
     "text": [
      "<class 'pandas.core.frame.DataFrame'>\n",
      "RangeIndex: 3268 entries, 0 to 3267\n",
      "Data columns (total 8 columns):\n",
      " #   Column         Non-Null Count  Dtype  \n",
      "---  ------         --------------  -----  \n",
      " 0   Product Name   3268 non-null   object \n",
      " 1   Product ID     3268 non-null   object \n",
      " 2   Listing Price  3268 non-null   int64  \n",
      " 3   Sale Price     3268 non-null   int64  \n",
      " 4   Discount       3268 non-null   int64  \n",
      " 5   Brand          3268 non-null   object \n",
      " 6   Rating         3268 non-null   float64\n",
      " 7   Reviews        3268 non-null   int64  \n",
      "dtypes: float64(1), int64(4), object(3)\n",
      "memory usage: 204.4+ KB\n"
     ]
    }
   ],
   "source": [
    "# Let's check variable data\n",
    "sneakers.info()"
   ]
  },
  {
   "cell_type": "code",
   "execution_count": null,
   "metadata": {
    "colab": {
     "base_uri": "https://localhost:8080/",
     "height": 424
    },
    "id": "0YyEc135U8fT",
    "outputId": "50e89601-1133-4592-971b-fd756e415134"
   },
   "outputs": [
    {
     "data": {
      "application/vnd.google.colaboratory.intrinsic+json": {
       "summary": "{\n  \"name\": \"sneakers_corr\",\n  \"rows\": 3268,\n  \"fields\": [\n    {\n      \"column\": \"Listing Price\",\n      \"properties\": {\n        \"dtype\": \"number\",\n        \"std\": 4724,\n        \"min\": 0,\n        \"max\": 29999,\n        \"num_unique_values\": 78,\n        \"samples\": [\n          2999,\n          14999,\n          12999\n        ],\n        \"semantic_type\": \"\",\n        \"description\": \"\"\n      }\n    },\n    {\n      \"column\": \"Sale Price\",\n      \"properties\": {\n        \"dtype\": \"number\",\n        \"std\": 4293,\n        \"min\": 449,\n        \"max\": 36500,\n        \"num_unique_values\": 227,\n        \"samples\": [\n          4559,\n          16995,\n          2279\n        ],\n        \"semantic_type\": \"\",\n        \"description\": \"\"\n      }\n    },\n    {\n      \"column\": \"Discount\",\n      \"properties\": {\n        \"dtype\": \"number\",\n        \"std\": 22,\n        \"min\": 0,\n        \"max\": 60,\n        \"num_unique_values\": 6,\n        \"samples\": [\n          50,\n          40,\n          20\n        ],\n        \"semantic_type\": \"\",\n        \"description\": \"\"\n      }\n    },\n    {\n      \"column\": \"Rating\",\n      \"properties\": {\n        \"dtype\": \"number\",\n        \"std\": 1.428856304347097,\n        \"min\": 0.0,\n        \"max\": 5.0,\n        \"num_unique_values\": 32,\n        \"samples\": [\n          2.4,\n          5.0,\n          2.0\n        ],\n        \"semantic_type\": \"\",\n        \"description\": \"\"\n      }\n    },\n    {\n      \"column\": \"Reviews\",\n      \"properties\": {\n        \"dtype\": \"number\",\n        \"std\": 31,\n        \"min\": 0,\n        \"max\": 223,\n        \"num_unique_values\": 102,\n        \"samples\": [\n          4,\n          19,\n          49\n        ],\n        \"semantic_type\": \"\",\n        \"description\": \"\"\n      }\n    }\n  ]\n}",
       "type": "dataframe",
       "variable_name": "sneakers_corr"
      },
      "text/html": [
       "\n",
       "  <div id=\"df-1635355f-7bb4-4083-9256-1982bd5907d3\" class=\"colab-df-container\">\n",
       "    <div>\n",
       "<style scoped>\n",
       "    .dataframe tbody tr th:only-of-type {\n",
       "        vertical-align: middle;\n",
       "    }\n",
       "\n",
       "    .dataframe tbody tr th {\n",
       "        vertical-align: top;\n",
       "    }\n",
       "\n",
       "    .dataframe thead th {\n",
       "        text-align: right;\n",
       "    }\n",
       "</style>\n",
       "<table border=\"1\" class=\"dataframe\">\n",
       "  <thead>\n",
       "    <tr style=\"text-align: right;\">\n",
       "      <th></th>\n",
       "      <th>Listing Price</th>\n",
       "      <th>Sale Price</th>\n",
       "      <th>Discount</th>\n",
       "      <th>Rating</th>\n",
       "      <th>Reviews</th>\n",
       "    </tr>\n",
       "  </thead>\n",
       "  <tbody>\n",
       "    <tr>\n",
       "      <th>0</th>\n",
       "      <td>14999</td>\n",
       "      <td>7499</td>\n",
       "      <td>50</td>\n",
       "      <td>4.8</td>\n",
       "      <td>41</td>\n",
       "    </tr>\n",
       "    <tr>\n",
       "      <th>1</th>\n",
       "      <td>7599</td>\n",
       "      <td>3799</td>\n",
       "      <td>50</td>\n",
       "      <td>3.3</td>\n",
       "      <td>24</td>\n",
       "    </tr>\n",
       "    <tr>\n",
       "      <th>2</th>\n",
       "      <td>999</td>\n",
       "      <td>599</td>\n",
       "      <td>40</td>\n",
       "      <td>2.6</td>\n",
       "      <td>37</td>\n",
       "    </tr>\n",
       "    <tr>\n",
       "      <th>3</th>\n",
       "      <td>6999</td>\n",
       "      <td>3499</td>\n",
       "      <td>50</td>\n",
       "      <td>4.1</td>\n",
       "      <td>35</td>\n",
       "    </tr>\n",
       "    <tr>\n",
       "      <th>4</th>\n",
       "      <td>7999</td>\n",
       "      <td>3999</td>\n",
       "      <td>50</td>\n",
       "      <td>3.5</td>\n",
       "      <td>72</td>\n",
       "    </tr>\n",
       "    <tr>\n",
       "      <th>...</th>\n",
       "      <td>...</td>\n",
       "      <td>...</td>\n",
       "      <td>...</td>\n",
       "      <td>...</td>\n",
       "      <td>...</td>\n",
       "    </tr>\n",
       "    <tr>\n",
       "      <th>3263</th>\n",
       "      <td>15995</td>\n",
       "      <td>12797</td>\n",
       "      <td>0</td>\n",
       "      <td>5.0</td>\n",
       "      <td>1</td>\n",
       "    </tr>\n",
       "    <tr>\n",
       "      <th>3264</th>\n",
       "      <td>4995</td>\n",
       "      <td>3497</td>\n",
       "      <td>0</td>\n",
       "      <td>0.0</td>\n",
       "      <td>0</td>\n",
       "    </tr>\n",
       "    <tr>\n",
       "      <th>3265</th>\n",
       "      <td>8495</td>\n",
       "      <td>5947</td>\n",
       "      <td>0</td>\n",
       "      <td>5.0</td>\n",
       "      <td>1</td>\n",
       "    </tr>\n",
       "    <tr>\n",
       "      <th>3266</th>\n",
       "      <td>0</td>\n",
       "      <td>16995</td>\n",
       "      <td>0</td>\n",
       "      <td>4.0</td>\n",
       "      <td>4</td>\n",
       "    </tr>\n",
       "    <tr>\n",
       "      <th>3267</th>\n",
       "      <td>8995</td>\n",
       "      <td>6297</td>\n",
       "      <td>0</td>\n",
       "      <td>0.0</td>\n",
       "      <td>0</td>\n",
       "    </tr>\n",
       "  </tbody>\n",
       "</table>\n",
       "<p>3268 rows × 5 columns</p>\n",
       "</div>\n",
       "    <div class=\"colab-df-buttons\">\n",
       "\n",
       "  <div class=\"colab-df-container\">\n",
       "    <button class=\"colab-df-convert\" onclick=\"convertToInteractive('df-1635355f-7bb4-4083-9256-1982bd5907d3')\"\n",
       "            title=\"Convert this dataframe to an interactive table.\"\n",
       "            style=\"display:none;\">\n",
       "\n",
       "  <svg xmlns=\"http://www.w3.org/2000/svg\" height=\"24px\" viewBox=\"0 -960 960 960\">\n",
       "    <path d=\"M120-120v-720h720v720H120Zm60-500h600v-160H180v160Zm220 220h160v-160H400v160Zm0 220h160v-160H400v160ZM180-400h160v-160H180v160Zm440 0h160v-160H620v160ZM180-180h160v-160H180v160Zm440 0h160v-160H620v160Z\"/>\n",
       "  </svg>\n",
       "    </button>\n",
       "\n",
       "  <style>\n",
       "    .colab-df-container {\n",
       "      display:flex;\n",
       "      gap: 12px;\n",
       "    }\n",
       "\n",
       "    .colab-df-convert {\n",
       "      background-color: #E8F0FE;\n",
       "      border: none;\n",
       "      border-radius: 50%;\n",
       "      cursor: pointer;\n",
       "      display: none;\n",
       "      fill: #1967D2;\n",
       "      height: 32px;\n",
       "      padding: 0 0 0 0;\n",
       "      width: 32px;\n",
       "    }\n",
       "\n",
       "    .colab-df-convert:hover {\n",
       "      background-color: #E2EBFA;\n",
       "      box-shadow: 0px 1px 2px rgba(60, 64, 67, 0.3), 0px 1px 3px 1px rgba(60, 64, 67, 0.15);\n",
       "      fill: #174EA6;\n",
       "    }\n",
       "\n",
       "    .colab-df-buttons div {\n",
       "      margin-bottom: 4px;\n",
       "    }\n",
       "\n",
       "    [theme=dark] .colab-df-convert {\n",
       "      background-color: #3B4455;\n",
       "      fill: #D2E3FC;\n",
       "    }\n",
       "\n",
       "    [theme=dark] .colab-df-convert:hover {\n",
       "      background-color: #434B5C;\n",
       "      box-shadow: 0px 1px 3px 1px rgba(0, 0, 0, 0.15);\n",
       "      filter: drop-shadow(0px 1px 2px rgba(0, 0, 0, 0.3));\n",
       "      fill: #FFFFFF;\n",
       "    }\n",
       "  </style>\n",
       "\n",
       "    <script>\n",
       "      const buttonEl =\n",
       "        document.querySelector('#df-1635355f-7bb4-4083-9256-1982bd5907d3 button.colab-df-convert');\n",
       "      buttonEl.style.display =\n",
       "        google.colab.kernel.accessAllowed ? 'block' : 'none';\n",
       "\n",
       "      async function convertToInteractive(key) {\n",
       "        const element = document.querySelector('#df-1635355f-7bb4-4083-9256-1982bd5907d3');\n",
       "        const dataTable =\n",
       "          await google.colab.kernel.invokeFunction('convertToInteractive',\n",
       "                                                    [key], {});\n",
       "        if (!dataTable) return;\n",
       "\n",
       "        const docLinkHtml = 'Like what you see? Visit the ' +\n",
       "          '<a target=\"_blank\" href=https://colab.research.google.com/notebooks/data_table.ipynb>data table notebook</a>'\n",
       "          + ' to learn more about interactive tables.';\n",
       "        element.innerHTML = '';\n",
       "        dataTable['output_type'] = 'display_data';\n",
       "        await google.colab.output.renderOutput(dataTable, element);\n",
       "        const docLink = document.createElement('div');\n",
       "        docLink.innerHTML = docLinkHtml;\n",
       "        element.appendChild(docLink);\n",
       "      }\n",
       "    </script>\n",
       "  </div>\n",
       "\n",
       "\n",
       "<div id=\"df-efd11818-c709-465a-acd8-d44b030bdca9\">\n",
       "  <button class=\"colab-df-quickchart\" onclick=\"quickchart('df-efd11818-c709-465a-acd8-d44b030bdca9')\"\n",
       "            title=\"Suggest charts\"\n",
       "            style=\"display:none;\">\n",
       "\n",
       "<svg xmlns=\"http://www.w3.org/2000/svg\" height=\"24px\"viewBox=\"0 0 24 24\"\n",
       "     width=\"24px\">\n",
       "    <g>\n",
       "        <path d=\"M19 3H5c-1.1 0-2 .9-2 2v14c0 1.1.9 2 2 2h14c1.1 0 2-.9 2-2V5c0-1.1-.9-2-2-2zM9 17H7v-7h2v7zm4 0h-2V7h2v10zm4 0h-2v-4h2v4z\"/>\n",
       "    </g>\n",
       "</svg>\n",
       "  </button>\n",
       "\n",
       "<style>\n",
       "  .colab-df-quickchart {\n",
       "      --bg-color: #E8F0FE;\n",
       "      --fill-color: #1967D2;\n",
       "      --hover-bg-color: #E2EBFA;\n",
       "      --hover-fill-color: #174EA6;\n",
       "      --disabled-fill-color: #AAA;\n",
       "      --disabled-bg-color: #DDD;\n",
       "  }\n",
       "\n",
       "  [theme=dark] .colab-df-quickchart {\n",
       "      --bg-color: #3B4455;\n",
       "      --fill-color: #D2E3FC;\n",
       "      --hover-bg-color: #434B5C;\n",
       "      --hover-fill-color: #FFFFFF;\n",
       "      --disabled-bg-color: #3B4455;\n",
       "      --disabled-fill-color: #666;\n",
       "  }\n",
       "\n",
       "  .colab-df-quickchart {\n",
       "    background-color: var(--bg-color);\n",
       "    border: none;\n",
       "    border-radius: 50%;\n",
       "    cursor: pointer;\n",
       "    display: none;\n",
       "    fill: var(--fill-color);\n",
       "    height: 32px;\n",
       "    padding: 0;\n",
       "    width: 32px;\n",
       "  }\n",
       "\n",
       "  .colab-df-quickchart:hover {\n",
       "    background-color: var(--hover-bg-color);\n",
       "    box-shadow: 0 1px 2px rgba(60, 64, 67, 0.3), 0 1px 3px 1px rgba(60, 64, 67, 0.15);\n",
       "    fill: var(--button-hover-fill-color);\n",
       "  }\n",
       "\n",
       "  .colab-df-quickchart-complete:disabled,\n",
       "  .colab-df-quickchart-complete:disabled:hover {\n",
       "    background-color: var(--disabled-bg-color);\n",
       "    fill: var(--disabled-fill-color);\n",
       "    box-shadow: none;\n",
       "  }\n",
       "\n",
       "  .colab-df-spinner {\n",
       "    border: 2px solid var(--fill-color);\n",
       "    border-color: transparent;\n",
       "    border-bottom-color: var(--fill-color);\n",
       "    animation:\n",
       "      spin 1s steps(1) infinite;\n",
       "  }\n",
       "\n",
       "  @keyframes spin {\n",
       "    0% {\n",
       "      border-color: transparent;\n",
       "      border-bottom-color: var(--fill-color);\n",
       "      border-left-color: var(--fill-color);\n",
       "    }\n",
       "    20% {\n",
       "      border-color: transparent;\n",
       "      border-left-color: var(--fill-color);\n",
       "      border-top-color: var(--fill-color);\n",
       "    }\n",
       "    30% {\n",
       "      border-color: transparent;\n",
       "      border-left-color: var(--fill-color);\n",
       "      border-top-color: var(--fill-color);\n",
       "      border-right-color: var(--fill-color);\n",
       "    }\n",
       "    40% {\n",
       "      border-color: transparent;\n",
       "      border-right-color: var(--fill-color);\n",
       "      border-top-color: var(--fill-color);\n",
       "    }\n",
       "    60% {\n",
       "      border-color: transparent;\n",
       "      border-right-color: var(--fill-color);\n",
       "    }\n",
       "    80% {\n",
       "      border-color: transparent;\n",
       "      border-right-color: var(--fill-color);\n",
       "      border-bottom-color: var(--fill-color);\n",
       "    }\n",
       "    90% {\n",
       "      border-color: transparent;\n",
       "      border-bottom-color: var(--fill-color);\n",
       "    }\n",
       "  }\n",
       "</style>\n",
       "\n",
       "  <script>\n",
       "    async function quickchart(key) {\n",
       "      const quickchartButtonEl =\n",
       "        document.querySelector('#' + key + ' button');\n",
       "      quickchartButtonEl.disabled = true;  // To prevent multiple clicks.\n",
       "      quickchartButtonEl.classList.add('colab-df-spinner');\n",
       "      try {\n",
       "        const charts = await google.colab.kernel.invokeFunction(\n",
       "            'suggestCharts', [key], {});\n",
       "      } catch (error) {\n",
       "        console.error('Error during call to suggestCharts:', error);\n",
       "      }\n",
       "      quickchartButtonEl.classList.remove('colab-df-spinner');\n",
       "      quickchartButtonEl.classList.add('colab-df-quickchart-complete');\n",
       "    }\n",
       "    (() => {\n",
       "      let quickchartButtonEl =\n",
       "        document.querySelector('#df-efd11818-c709-465a-acd8-d44b030bdca9 button');\n",
       "      quickchartButtonEl.style.display =\n",
       "        google.colab.kernel.accessAllowed ? 'block' : 'none';\n",
       "    })();\n",
       "  </script>\n",
       "</div>\n",
       "\n",
       "  <div id=\"id_e159ccc4-fd35-4a5b-86e7-6e0c83642415\">\n",
       "    <style>\n",
       "      .colab-df-generate {\n",
       "        background-color: #E8F0FE;\n",
       "        border: none;\n",
       "        border-radius: 50%;\n",
       "        cursor: pointer;\n",
       "        display: none;\n",
       "        fill: #1967D2;\n",
       "        height: 32px;\n",
       "        padding: 0 0 0 0;\n",
       "        width: 32px;\n",
       "      }\n",
       "\n",
       "      .colab-df-generate:hover {\n",
       "        background-color: #E2EBFA;\n",
       "        box-shadow: 0px 1px 2px rgba(60, 64, 67, 0.3), 0px 1px 3px 1px rgba(60, 64, 67, 0.15);\n",
       "        fill: #174EA6;\n",
       "      }\n",
       "\n",
       "      [theme=dark] .colab-df-generate {\n",
       "        background-color: #3B4455;\n",
       "        fill: #D2E3FC;\n",
       "      }\n",
       "\n",
       "      [theme=dark] .colab-df-generate:hover {\n",
       "        background-color: #434B5C;\n",
       "        box-shadow: 0px 1px 3px 1px rgba(0, 0, 0, 0.15);\n",
       "        filter: drop-shadow(0px 1px 2px rgba(0, 0, 0, 0.3));\n",
       "        fill: #FFFFFF;\n",
       "      }\n",
       "    </style>\n",
       "    <button class=\"colab-df-generate\" onclick=\"generateWithVariable('sneakers_corr')\"\n",
       "            title=\"Generate code using this dataframe.\"\n",
       "            style=\"display:none;\">\n",
       "\n",
       "  <svg xmlns=\"http://www.w3.org/2000/svg\" height=\"24px\"viewBox=\"0 0 24 24\"\n",
       "       width=\"24px\">\n",
       "    <path d=\"M7,19H8.4L18.45,9,17,7.55,7,17.6ZM5,21V16.75L18.45,3.32a2,2,0,0,1,2.83,0l1.4,1.43a1.91,1.91,0,0,1,.58,1.4,1.91,1.91,0,0,1-.58,1.4L9.25,21ZM18.45,9,17,7.55Zm-12,3A5.31,5.31,0,0,0,4.9,8.1,5.31,5.31,0,0,0,1,6.5,5.31,5.31,0,0,0,4.9,4.9,5.31,5.31,0,0,0,6.5,1,5.31,5.31,0,0,0,8.1,4.9,5.31,5.31,0,0,0,12,6.5,5.46,5.46,0,0,0,6.5,12Z\"/>\n",
       "  </svg>\n",
       "    </button>\n",
       "    <script>\n",
       "      (() => {\n",
       "      const buttonEl =\n",
       "        document.querySelector('#id_e159ccc4-fd35-4a5b-86e7-6e0c83642415 button.colab-df-generate');\n",
       "      buttonEl.style.display =\n",
       "        google.colab.kernel.accessAllowed ? 'block' : 'none';\n",
       "\n",
       "      buttonEl.onclick = () => {\n",
       "        google.colab.notebook.generateWithVariable('sneakers_corr');\n",
       "      }\n",
       "      })();\n",
       "    </script>\n",
       "  </div>\n",
       "\n",
       "    </div>\n",
       "  </div>\n"
      ],
      "text/plain": [
       "      Listing Price  Sale Price  Discount  Rating  Reviews\n",
       "0             14999        7499        50     4.8       41\n",
       "1              7599        3799        50     3.3       24\n",
       "2               999         599        40     2.6       37\n",
       "3              6999        3499        50     4.1       35\n",
       "4              7999        3999        50     3.5       72\n",
       "...             ...         ...       ...     ...      ...\n",
       "3263          15995       12797         0     5.0        1\n",
       "3264           4995        3497         0     0.0        0\n",
       "3265           8495        5947         0     5.0        1\n",
       "3266              0       16995         0     4.0        4\n",
       "3267           8995        6297         0     0.0        0\n",
       "\n",
       "[3268 rows x 5 columns]"
      ]
     },
     "execution_count": 24,
     "metadata": {},
     "output_type": "execute_result"
    }
   ],
   "source": [
    "# Copying dataset to keep data\n",
    "# Dropping all non-numeric data\n",
    "sneakers_corr = sneakers.copy()\n",
    "sneakers_corr.drop(['Product Name', 'Product ID', 'Brand'], axis=1, inplace=True)\n",
    "sneakers_corr"
   ]
  },
  {
   "cell_type": "code",
   "execution_count": null,
   "metadata": {
    "colab": {
     "base_uri": "https://localhost:8080/",
     "height": 452
    },
    "id": "YcZjz39SV-9e",
    "outputId": "a0c4def1-400d-4d37-abee-148cb08ab77b"
   },
   "outputs": [
    {
     "data": {
      "text/plain": [
       "<Axes: >"
      ]
     },
     "execution_count": 25,
     "metadata": {},
     "output_type": "execute_result"
    },
    {
     "data": {
      "image/png": "[encoded data removed]",
      "text/plain": [
       "<Figure size 640x480 with 2 Axes>"
      ]
     },
     "metadata": {},
     "output_type": "display_data"
    }
   ],
   "source": [
    "# Using a heatmap to graph correlation in data\n",
    "sns.heatmap(sneakers_corr.corr(), cmap='RdYlGn', annot=True)"
   ]
  },
  {
   "cell_type": "markdown",
   "metadata": {
    "id": "EyS4cH68ZEsw"
   },
   "source": [
    "- The two highly positively correlated variables\n",
    "  1. Sale Price and Listing Price (0.31)\n",
    "  2. Reviews and Discount (0.31)\n",
    "- The two highly negatively correlated variables\n",
    "  1. Discount and Sale Price (-0.59)\n",
    "  2. Reviews and Sale Pirce (-0.24)"
   ]
  },
  {
   "cell_type": "markdown",
   "metadata": {
    "id": "YbRGhJvpZG96"
   },
   "source": [
    "### 11. What are the names of the 10 highest rated products?"
   ]
  },
  {
   "cell_type": "code",
   "execution_count": null,
   "metadata": {
    "id": "UWe4osTfZM--"
   },
   "outputs": [],
   "source": []
  },
  {
   "cell_type": "markdown",
   "metadata": {
    "id": "e6O5KljsZNUR"
   },
   "source": [
    "Answer:"
   ]
  },
  {
   "cell_type": "markdown",
   "metadata": {
    "id": "8jnD8tVnZPmX"
   },
   "source": [
    "### 12. What are the 10 product names with the highest number of reviews?"
   ]
  },
  {
   "cell_type": "code",
   "execution_count": null,
   "metadata": {
    "id": "nxSwA0S2Zehm"
   },
   "outputs": [],
   "source": []
  },
  {
   "cell_type": "markdown",
   "metadata": {
    "id": "gvxqZqC0Ze10"
   },
   "source": [
    "Answer:"
   ]
  },
  {
   "cell_type": "markdown",
   "metadata": {
    "id": "Z_9I_mqKZfxT"
   },
   "source": [
    "### 13. Which company gives more discount: Adidas or Nike?"
   ]
  },
  {
   "cell_type": "code",
   "execution_count": null,
   "metadata": {
    "id": "pLiOXjvTZhkl"
   },
   "outputs": [],
   "source": []
  },
  {
   "cell_type": "markdown",
   "metadata": {
    "id": "I9wCLAUPZilC"
   },
   "source": [
    "Answer:"
   ]
  },
  {
   "cell_type": "markdown",
   "metadata": {
    "id": "knQl2ty2Us4Y"
   },
   "source": [
    "## 6. Conclusion\n",
    "1.\n",
    "2.\n",
    "3.\n",
    "4.\n",
    "5.\n",
    "6.\n",
    "7.\n",
    "8.\n",
    "9.\n",
    "10."
   ]
  }
 ],
 "metadata": {
  "colab": {
   "provenance": []
  },
  "kernelspec": {
   "display_name": "Python 3 (ipykernel)",
   "language": "python",
   "name": "python3"
  },
  "language_info": {
   "codemirror_mode": {
    "name": "ipython",
    "version": 3
   },
   "file_extension": ".py",
   "mimetype": "text/x-python",
   "name": "python",
   "nbconvert_exporter": "python",
   "pygments_lexer": "ipython3",
   "version": "3.11.5"
  }
 },
 "nbformat": 4,
 "nbformat_minor": 1
}
